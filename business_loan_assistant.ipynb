{
 "cells": [
  {
   "cell_type": "markdown",
   "id": "7fea45eb-0b84-4d95-b1eb-96689f947831",
   "metadata": {},
   "source": [
    "# Business Loan Assistant Chatbot (GenAI Project)\n",
    "\n",
    "## Project Overview\n",
    "This project builds a Business Loan Assistant chatbot using a free LLM hosted on Hugging Face and Agentic AI. The chatbot is designed to help small business owners understand their loan eligibility, loan types, application requirements, and repayment terms."
   ]
  },
  {
   "cell_type": "code",
   "execution_count": 10,
   "id": "bcd7704c-7a50-4126-b8c5-6832d63d13c9",
   "metadata": {},
   "outputs": [],
   "source": [
    "from huggingface_hub import InferenceClient\n",
    "from dotenv import load_dotenv\n",
    "import os\n",
    "\n",
    "load_dotenv()\n",
    "\n",
    "client = InferenceClient(\n",
    "    model=\"HuggingFaceH4/zephyr-7b-beta\",\n",
    "    token=os.getenv('HF_API_KEY')\n",
    ")\n",
    "\n",
    "#Agentic AI function to suggest loan types based on user input\n",
    "def agentic_suggestion(user_message):\n",
    "    user_message_lower = user_message.lower()\n",
    "\n",
    "    if \"income\" in user_message_lower:\n",
    "        import re\n",
    "        income_match = re.search(r\"\\$?(\\d{2,6})\", user_message_lower)\n",
    "        if income_match:\n",
    "            income = int(income_match.group(1))\n",
    "            if income < 50000:\n",
    "                return (\n",
    "                    \"**Suggestion:**\\n\"\n",
    "                    \"- Based on your income level, you may qualify for a **Microloan**.\\n\"\n",
    "                    \"- Microloans are ideal for small or new businesses.\\n\"\n",
    "                    \"- They usually offer smaller amounts with flexible repayment terms.\"\n",
    "                )\n",
    "            else:\n",
    "                return (\n",
    "                    \"**Suggestion:**\\n\"\n",
    "                    \"- With your income level, you might qualify for a **Growth Loan**.\\n\"\n",
    "                    \"- Growth Loans are suited for expanding established businesses.\"\n",
    "                )\n",
    "    \n",
    "    if \"started\" in user_message_lower or \"new business\" in user_message_lower:\n",
    "        return (\n",
    "            \"**Suggestion:**\\n\"\n",
    "            \"- Since your business is new, a **Microloan** might be the best early funding option.\"\n",
    "        )\n",
    "\n",
    "    if \"operating for\" in user_message_lower or \"years\" in user_message_lower:\n",
    "        return (\n",
    "            \"**Suggestion:**\\n\"\n",
    "            \"- Since your business has been operating for several years, a **Growth Loan** could support your expansion.\"\n",
    "        )\n",
    "\n",
    "    return None  \n",
    "\n",
    "\n",
    "def chat_with_loan_assistant(user_message):\n",
    "    agent_response = agentic_suggestion(user_message)\n",
    "\n",
    "    if agent_response:\n",
    "        return agent_response #if we have an agentic response we can skip LLM\n",
    "    \n",
    "  \n",
    "    response = client.text_generation(\n",
    "    prompt=f\"User: {user_message}\\nAssistant (please format your answer with bullet points if listing options, limit your answer to 400 tokens, and bold important terms like Microloan or Growth Loan):\",\n",
    "    max_new_tokens=400, #changed from 200 to 400 to allow more words since answers were getting cut\n",
    "    temperature=0.7,\n",
    "    stop_sequences=[\"User:\"]\n",
    ")\n",
    "\n",
    "    return response"
   ]
  },
  {
   "cell_type": "code",
   "execution_count": 6,
   "id": "2e818483-ffe4-472f-9616-4f522255d752",
   "metadata": {},
   "outputs": [],
   "source": [
    "#prompt engineering time! making sure its clear and clearly defines what is expected of AI\n",
    "#made sure limit was 400 tokens\n",
    "#modified prompts to make answers more precise.\n",
    "system_prompt = \"\"\"\n",
    "You are a Business Loan Assistant helping small business owners understand their loan options.\n",
    "\n",
    "Your job is to:\n",
    "- Guide users based on their income, business age, and funding purpose.\n",
    "- Suggest Microloans for new or low-income businesses.\n",
    "- Suggest Growth Loans for established businesses needing expansion.\n",
    "- Explain required documents: business plan, financial statements, and credit reports.\n",
    "- Provide realistic, helpful answers without overpromising.\n",
    "\n",
    "Be clear, supportive, follow the rules and be professional. If unsure, recommend contacting a BDC advisor.\n",
    "\"\"\""
   ]
  },
  {
   "cell_type": "code",
   "execution_count": 12,
   "id": "c49d5e86-00bf-42dd-8a8e-3a737ba4faff",
   "metadata": {},
   "outputs": [
    {
     "name": "stdout",
     "output_type": "stream",
     "text": [
      "User: I just started my business and make about $40,000 a year. What loans could I qualify for?\n",
      "Assistant: **Suggestion:**\n",
      "- Since your business is new, a **Microloan** might be the best early funding option.\n"
     ]
    }
   ],
   "source": [
    "#testing the hugging face chatbot agentic ai (must return fast)\n",
    "user_question = \"I just started my business and make about $40,000 a year. What loans could I qualify for?\"\n",
    "response = chat_with_loan_assistant(user_question)\n",
    "\n",
    "print(\"User:\", user_question)\n",
    "print(\"Assistant:\", response)"
   ]
  },
  {
   "cell_type": "code",
   "execution_count": 11,
   "id": "79a5c040-914c-40bc-9266-a1d2c05cfef5",
   "metadata": {},
   "outputs": [
    {
     "name": "stdout",
     "output_type": "stream",
     "text": [
      "User: What documents do I need to apply for a business loan?\n",
      "Assistant: \n",
      "\n",
      "- Business plan: A comprehensive document that outlines your business goals, strategies, and financial projections. It should also include a marketing plan, management team biographies, and competitive analysis.\n",
      "\n",
      "- Personal financial statement: A summary of your personal finances, including your income, expenses, and assets. Lenders want to see that you have a solid financial foundation and can manage the debt.\n",
      "\n",
      "- Business financial statements: Profit and loss statements, balance sheets, and cash flow statements for at least the past three years. Lenders will want to see that your business is financially stable and has a history of profitability.\n",
      "\n",
      "- Collateral: Depending on the type of loan, you may need to provide collateral, such as real estate, equipment, or inventory. This helps protect the lender in case you default on the loan.\n",
      "\n",
      "- Legal documents: If you have any legal documents, such as articles of incorporation, partnership agreements, or leases, provide them to the lender. This shows that your business is legitimate and has a solid legal structure.\n",
      "\n",
      "- Credit report: Lenders will check your personal and business credit reports to assess your creditworthiness. Make sure your reports are accurate and up-to-date.\n",
      "\n",
      "- Loan application and supporting documents: Complete the loan application and provide any additional documents the lender requests, such as a resume, references, or a business license.\n",
      "\n",
      "Remember, the requirements may vary depending on the type of loan you're applying for, such as a microloan or a growth loan. Be sure to research the specific requirements for the type of loan you're seeking.\n"
     ]
    }
   ],
   "source": [
    "user_question = \"What documents do I need to apply for a business loan?\"\n",
    "response = chat_with_loan_assistant(user_question)\n",
    "\n",
    "print(\"User:\", user_question)\n",
    "print(\"Assistant:\", response)"
   ]
  },
  {
   "cell_type": "code",
   "execution_count": 13,
   "id": "002cf46a-7640-4156-9b91-466d53090b03",
   "metadata": {},
   "outputs": [
    {
     "name": "stdout",
     "output_type": "stream",
     "text": [
      "User: My business makes $75,000 per year and is 5 years old. What would you recommend?\n",
      "Assistant: **Suggestion:**\n",
      "- Since your business has been operating for several years, a **Growth Loan** could support your expansion.\n"
     ]
    }
   ],
   "source": [
    "user_question = \"My business makes $75,000 per year and is 5 years old. What would you recommend?\"\n",
    "response = chat_with_loan_assistant(user_question)\n",
    "\n",
    "print(\"User:\", user_question)\n",
    "print(\"Assistant:\", response)"
   ]
  },
  {
   "cell_type": "code",
   "execution_count": 17,
   "id": "6582d9fc-ba7f-47ae-8a67-1dfba78e3380",
   "metadata": {},
   "outputs": [
    {
     "name": "stdout",
     "output_type": "stream",
     "text": [
      "User: Can you give me 5 instances where a Growth Loan is better than a Microloan?\n",
      "Assistant: \n",
      "- Higher Loan Amount: Growth Loans typically offer much higher loan amounts than Microloans, allowing businesses to access the capital they need to finance larger expansion projects. While Microloans may cap at $50,000, Growth Loans can provide up to $1 million or more.\n",
      "- Longer Repayment Terms: Growth Loans have longer repayment terms than Microloans, which can help businesses manage cash flow more effectively. Microloans typically require repayment within 1-5 years, while Growth Loans can offer repayment terms of 5-10 years or more.\n",
      "- Collateral Requirements: While Microloans may require collateral, Growth Loans often accept alternative forms of collateral, such as intellectual property or future revenue streams, making it easier for small businesses to secure financing.\n",
      "- Customized Loan Structures: Growth Loans can be structured to meet the unique needs of each business, with flexible repayment schedules, interest rates, and repayment terms. Microloans, on the other hand, tend to have more rigid loan structures that may not be as tailored to the specific needs of each borrower.\n",
      "- Access to Additional Resources: Some Growth Loan programs offer additional resources and support to help businesses succeed, such as mentorship, training, and networking opportunities. While Microloan providers may also offer some resources, Growth Loan programs tend to provide a more comprehensive set of services to help businesses grow.\n",
      "\n",
      "By offering higher loan amounts, longer repayment terms, more flexible collateral requirements, customized loan structures, and additional resources, Growth Loans are often a better fit for small businesses seeking larger amounts of financing to support significant growth and expansion projects. Microloans, on the other hand, are better suited for smaller businesses seeking more modest amounts of financing to cover\n"
     ]
    }
   ],
   "source": [
    "user_question = \"Can you give me 5 instances where a Growth Loan is better than a Microloan?\"\n",
    "response = chat_with_loan_assistant(user_question)\n",
    "\n",
    "print(\"User:\", user_question)\n",
    "print(\"Assistant:\", response)"
   ]
  },
  {
   "cell_type": "code",
   "execution_count": 14,
   "id": "2fc711e6-246d-45f9-b14a-cfb994c943be",
   "metadata": {},
   "outputs": [
    {
     "name": "stdout",
     "output_type": "stream",
     "text": [
      "User: Can I apply for a loan if I don't have a business plan ready yet?\n",
      "Assistant: \n",
      "\n",
      "1. Microloan: In some cases, lenders may provide microloans without a formal business plan. These loans are generally smaller in amount and are intended to help borrowers establish or grow a small business. However, lenders may still require that you provide a detailed overview of your business idea, including your target market, competitive landscape, and financial projections.\n",
      "\n",
      "2. Growth Loan: For larger loans, lenders typically require a formal business plan as part of the application process. This is because a detailed plan helps the lender to assess the viability of your business and the likelihood of repayment. If you are seeking a growth loan, it may be beneficial to work with a business advisor or mentor to develop a solid business plan before applying.\n",
      "\n",
      "3. Alternative Financing: Some alternative financing options, such as crowdfunding or peer-to-peer lending platforms, may be less stringent in their requirements for a business plan. However, these options may also come with higher interest rates or less favorable repayment terms.\n",
      "\n",
      "In summary, while a business plan is not always required for a loan, it is generally recommended to have a clear and detailed plan in place, particularly for larger loan amounts. If you are unsure about the requirements for a specific loan program, it is best to consult with the lender directly.\n"
     ]
    }
   ],
   "source": [
    "user_question = \"Can I apply for a loan if I don't have a business plan ready yet?\"\n",
    "response = chat_with_loan_assistant(user_question)\n",
    "\n",
    "print(\"User:\", user_question)\n",
    "print(\"Assistant:\", response)"
   ]
  },
  {
   "cell_type": "markdown",
   "id": "d640b3eb",
   "metadata": {},
   "source": [
    "#### Observations\n",
    "\n",
    "- The chatbot was able to recommend Microloans or Growth Loans correctly for most new businesses.\n",
    "- Some longer answers were cut off (can be improved by adjusting max_new_tokens).\n",
    "- Responses were professional and realistic.\n",
    "- Sometimes the bot could suggest contacting an advisor more proactively.\n",
    "\n",
    "#### Strengths\n",
    "\n",
    "- Free model used effectively.\n",
    "- Business relevance maintained across tests.\n",
    "- Adaptable to different client profiles.\n",
    "\n",
    "#### Limitations\n",
    "\n",
    "- Since it is a small free model, it has token limitations.\n",
    "- Hugging Face models can be slightly slower than OpenAI APIs.\n"
   ]
  },
  {
   "cell_type": "markdown",
   "id": "637e0e85",
   "metadata": {},
   "source": [
    "## Conclusion\n",
    "\n",
    "In this project I successfully demonstrates a GenAI-powered Business Loan Assistant using a free Hugging Face LLM.\n",
    "The assistant is capable of answering a wide range of business loan queries, supporting decision-making for small business owners as well as give responses based on what it knows about the user.\n",
    "This project highlights the potential of integrating GenAI into real-world financial services.\n"
   ]
  }
 ],
 "metadata": {
  "kernelspec": {
   "display_name": "base",
   "language": "python",
   "name": "python3"
  },
  "language_info": {
   "codemirror_mode": {
    "name": "ipython",
    "version": 3
   },
   "file_extension": ".py",
   "mimetype": "text/x-python",
   "name": "python",
   "nbconvert_exporter": "python",
   "pygments_lexer": "ipython3",
   "version": "3.12.7"
  }
 },
 "nbformat": 4,
 "nbformat_minor": 5
}
